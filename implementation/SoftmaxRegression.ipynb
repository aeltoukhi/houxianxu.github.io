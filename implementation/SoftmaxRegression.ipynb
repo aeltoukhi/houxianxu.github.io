{
 "metadata": {
  "name": "",
  "signature": "sha256:1ec9ff108b249ee082f895ee39c765fe7aa4482c5646f716102a0313a1acb9ea"
 },
 "nbformat": 3,
 "nbformat_minor": 0,
 "worksheets": [
  {
   "cells": [
    {
     "cell_type": "markdown",
     "metadata": {},
     "source": [
      "## Softmax regression \n",
      "\n",
      "###Building a softmax regression classifier to solve multi-classification [CIFAR-10 dataset](http://www.cs.toronto.edu/~kriz/cifar.html)\n",
      "\n",
      "- implement a fully-vectorized **loss function** for the Softmax Regression\n",
      "- implement the fully-vectorized expression for its **analytic gradient**\n",
      "- **check implementation** using **numerical gradient**\n",
      "- use a validation set to **tune the learning rate ** and **regularization strength**\n",
      "- **optimize** the loss function with **Batch Gradient Descent** and **Stochastic Gradient Descent**"
     ]
    },
    {
     "cell_type": "code",
     "collapsed": false,
     "input": [
      "# Setup code for this notebook\n",
      "import random \n",
      "import numpy as np\n",
      "import matplotlib.pyplot as plt\n",
      "\n",
      "# This is a bit of magic gto make matplotlib figures appear inline\n",
      "# in the notebook rather than in a new window\n",
      "%matplotlib inline\n",
      "plt.rcParams['figure.figsize'] = (10.0, 8.0)\n",
      "plt.rcParams['image.interpolation'] = 'nearest'\n",
      "plt.rcParams['image.cmap'] = 'gray'\n",
      "# Some more magic so that the notebook will reload external python modules;\n",
      "# see http://stackoverflow.com/questions/1907993/autoreload-of-modules-in-ipython\n",
      "%load_ext autoreload\n",
      "%autoreload 2"
     ],
     "language": "python",
     "metadata": {},
     "outputs": [],
     "prompt_number": 1
    },
    {
     "cell_type": "markdown",
     "metadata": {},
     "source": [
      "### Download CIFAR-10 Data\n",
      "I use the loading function from [course code](http://cs231n.github.io/assignment1/) from Stanford University\n",
      "\n",
      "Run get_datasets.sh in terminal to download the datasets, or download from [Alex Krizhevsky](http://www.cs.toronto.edu/~kriz/cifar.html).\n",
      "\n",
      ">get_datasets.sh\n",
      ">``` bash\n",
      "># Get CIFAR10\n",
      ">wget http://www.cs.toronto.edu/~kriz/cifar-10-python.tar.gz\n",
      ">tar -xzvf cifar-10-python.tar.gz\n",
      ">rm cifar-10-python.tar.gz \n",
      "```\n",
      "\n",
      "The results of the downloading is showed in following figure.\n",
      "\n",
      "<img style=\"float: left\" src=\"images/cifar-10.png\">\n",
      "\n"
     ]
    },
    {
     "cell_type": "code",
     "collapsed": false,
     "input": [
      "### Write function to load data in data_utils.py\n",
      "# Write function to load the cifar-10 data\n",
      "# The original code is from http://cs231n.github.io/assignment1/\n",
      "# The function is in data_utils.py file for reusing.\n",
      "import cPickle as pickle\n",
      "import numpy as np\n",
      "import os\n",
      "\n",
      "def load_CIFAR_batch(filename):\n",
      "  \"\"\" load single batch of cifar \"\"\"\n",
      "  with open(filename, 'r') as f:\n",
      "    datadict = pickle.load(f)\n",
      "    X = datadict['data']\n",
      "    Y = datadict['labels']\n",
      "    X = X.reshape(10000, 3, 32, 32).transpose(0,2,3,1).astype(\"float\")\n",
      "    Y = np.array(Y)\n",
      "    return X, Y\n",
      "\n",
      "def load_CIFAR10(ROOT):\n",
      "  \"\"\" load all of cifar \"\"\"\n",
      "  xs = []\n",
      "  ys = []\n",
      "  for b in range(1,6):\n",
      "    f = os.path.join(ROOT, 'data_batch_%d' % (b, ))\n",
      "    X, Y = load_CIFAR_batch(f)\n",
      "    xs.append(X)\n",
      "    ys.append(Y)    \n",
      "  Xtr = np.concatenate(xs)\n",
      "  Ytr = np.concatenate(ys)\n",
      "  del X, Y\n",
      "  Xte, Yte = load_CIFAR_batch(os.path.join(ROOT, 'test_batch'))\n",
      "  return Xtr, Ytr, Xte, Yte"
     ],
     "language": "python",
     "metadata": {},
     "outputs": [],
     "prompt_number": 2
    },
    {
     "cell_type": "markdown",
     "metadata": {},
     "source": [
      "## Load data and visualize samples"
     ]
    },
    {
     "cell_type": "code",
     "collapsed": false,
     "input": [
      "from algorithms.data_utils import load_CIFAR10\n",
      "classes = ['plane', 'car', 'bird', 'cat', 'deer', 'dog', 'frog', 'horse', 'ship', 'truck']\n",
      "\n",
      "def get_CIFAR10_data(num_training=49000, num_val=1000, num_test=10000, show_sample=True):\n",
      "    \"\"\"\n",
      "    Load the CIFAR-10 dataset, and divide the sample into training set, validation set and test set\n",
      "    \"\"\"\n",
      "\n",
      "    cifar10_dir = 'datasets/datasets-cifar-10/cifar-10-batches-py/'\n",
      "    X_train, y_train, X_test, y_test = load_CIFAR10(cifar10_dir)\n",
      "        \n",
      "    # subsample the data for validation set\n",
      "    mask = xrange(num_training, num_training + num_val)\n",
      "    X_val = X_train[mask]\n",
      "    y_val = y_train[mask]\n",
      "    mask = xrange(num_training)\n",
      "    X_train = X_train[mask]\n",
      "    y_train = y_train[mask]\n",
      "    mask = xrange(num_test)\n",
      "    X_test = X_test[mask]\n",
      "    y_test = y_test[mask]\n",
      "    return X_train, y_train, X_val, y_val, X_test, y_test\n",
      "\n",
      "def visualize_sample(X_train, y_train, classes, samples_per_class=7):\n",
      "    \"\"\"visualize some samples in the training datasets \"\"\"\n",
      "    num_classes = len(classes)\n",
      "    for y, cls in enumerate(classes):\n",
      "        idxs = np.flatnonzero(y_train == y) # get all the indexes of cls\n",
      "        idxs = np.random.choice(idxs, samples_per_class, replace=False)\n",
      "        for i, idx in enumerate(idxs): # plot the image one by one\n",
      "            plt_idx = i * num_classes + y + 1 # i*num_classes and y+1 determine the row and column respectively\n",
      "            plt.subplot(samples_per_class, num_classes, plt_idx)\n",
      "            plt.imshow(X_train[idx].astype('uint8'))\n",
      "            plt.axis('off')\n",
      "            if i == 0:\n",
      "                plt.title(cls)\n",
      "    plt.show()\n",
      "    \n",
      "def preprocessing_CIFAR10_data(X_train, y_train, X_val, y_val, X_test, y_test):\n",
      "    \n",
      "    # Preprocessing: reshape the image data into rows\n",
      "    X_train = np.reshape(X_train, (X_train.shape[0], -1)) # [49000, 3072]\n",
      "    X_val = np.reshape(X_val, (X_val.shape[0], -1)) # [1000, 3072]\n",
      "    X_test = np.reshape(X_test, (X_test.shape[0], -1)) # [10000, 3072]\n",
      "    \n",
      "    # Normalize the data: subtract the mean image\n",
      "    mean_image = np.mean(X_train, axis = 0)\n",
      "    X_train -= mean_image\n",
      "    X_val -= mean_image\n",
      "    X_test -= mean_image\n",
      "    \n",
      "    # Add bias dimension and transform into columns\n",
      "    X_train = np.hstack([X_train, np.ones((X_train.shape[0], 1))]).T\n",
      "    X_val = np.hstack([X_val, np.ones((X_val.shape[0], 1))]).T\n",
      "    X_test = np.hstack([X_test, np.ones((X_test.shape[0], 1))]).T\n",
      "    return X_train, y_train, X_val, y_val, X_test, y_test\n",
      "\n",
      "\n",
      "# Invoke the above functions to get our data\n",
      "X_train_raw, y_train_raw, X_val_raw, y_val_raw, X_test_raw, y_test_raw = get_CIFAR10_data()\n",
      "visualize_sample(X_train_raw, y_train_raw, classes)\n",
      "X_train, y_train, X_val, y_val, X_test, y_test = preprocessing_CIFAR10_data(X_train_raw, y_train_raw, X_val_raw, y_val_raw, X_test_raw, y_test_raw)\n",
      "\n",
      "# As a sanity check, we print out th size of the training and test data dimenstion\n",
      "print 'Train data shape: ', X_train.shape\n",
      "print 'Train labels shape: ', y_train.shape\n",
      "print 'Validation data shape: ', X_val.shape\n",
      "print 'Validation labels shape: ', y_val.shape\n",
      "print 'Test data shape: ', X_test.shape\n",
      "print 'Test labels shape: ', y_test.shape"
     ],
     "language": "python",
     "metadata": {},
     "outputs": [
      {
       "ename": "IndexError",
       "evalue": "unsupported iterator index",
       "output_type": "pyerr",
       "traceback": [
        "\u001b[0;31m---------------------------------------------------------------------------\u001b[0m\n\u001b[0;31mIndexError\u001b[0m                                Traceback (most recent call last)",
        "\u001b[0;32m<ipython-input-3-a89f5dfa066a>\u001b[0m in \u001b[0;36m<module>\u001b[0;34m()\u001b[0m\n\u001b[1;32m     58\u001b[0m \u001b[0;34m\u001b[0m\u001b[0m\n\u001b[1;32m     59\u001b[0m \u001b[0;31m# Invoke the above functions to get our data\u001b[0m\u001b[0;34m\u001b[0m\u001b[0;34m\u001b[0m\u001b[0m\n\u001b[0;32m---> 60\u001b[0;31m \u001b[0mX_train_raw\u001b[0m\u001b[0;34m,\u001b[0m \u001b[0my_train_raw\u001b[0m\u001b[0;34m,\u001b[0m \u001b[0mX_val_raw\u001b[0m\u001b[0;34m,\u001b[0m \u001b[0my_val_raw\u001b[0m\u001b[0;34m,\u001b[0m \u001b[0mX_test_raw\u001b[0m\u001b[0;34m,\u001b[0m \u001b[0my_test_raw\u001b[0m \u001b[0;34m=\u001b[0m \u001b[0mget_CIFAR10_data\u001b[0m\u001b[0;34m(\u001b[0m\u001b[0;34m)\u001b[0m\u001b[0;34m\u001b[0m\u001b[0m\n\u001b[0m\u001b[1;32m     61\u001b[0m \u001b[0mvisualize_sample\u001b[0m\u001b[0;34m(\u001b[0m\u001b[0mX_train_raw\u001b[0m\u001b[0;34m,\u001b[0m \u001b[0my_train_raw\u001b[0m\u001b[0;34m,\u001b[0m \u001b[0mclasses\u001b[0m\u001b[0;34m)\u001b[0m\u001b[0;34m\u001b[0m\u001b[0m\n\u001b[1;32m     62\u001b[0m \u001b[0mX_train\u001b[0m\u001b[0;34m,\u001b[0m \u001b[0my_train\u001b[0m\u001b[0;34m,\u001b[0m \u001b[0mX_val\u001b[0m\u001b[0;34m,\u001b[0m \u001b[0my_val\u001b[0m\u001b[0;34m,\u001b[0m \u001b[0mX_test\u001b[0m\u001b[0;34m,\u001b[0m \u001b[0my_test\u001b[0m \u001b[0;34m=\u001b[0m \u001b[0mpreprocessing_CIFAR10_data\u001b[0m\u001b[0;34m(\u001b[0m\u001b[0mX_train_raw\u001b[0m\u001b[0;34m,\u001b[0m \u001b[0my_train_raw\u001b[0m\u001b[0;34m,\u001b[0m \u001b[0mX_val_raw\u001b[0m\u001b[0;34m,\u001b[0m \u001b[0my_val_raw\u001b[0m\u001b[0;34m,\u001b[0m \u001b[0mX_test_raw\u001b[0m\u001b[0;34m,\u001b[0m \u001b[0my_test_raw\u001b[0m\u001b[0;34m)\u001b[0m\u001b[0;34m\u001b[0m\u001b[0m\n",
        "\u001b[0;32m<ipython-input-3-a89f5dfa066a>\u001b[0m in \u001b[0;36mget_CIFAR10_data\u001b[0;34m(num_training, num_val, num_test, show_sample)\u001b[0m\n\u001b[1;32m     13\u001b[0m     \u001b[0mmask\u001b[0m \u001b[0;34m=\u001b[0m \u001b[0mxrange\u001b[0m\u001b[0;34m(\u001b[0m\u001b[0mnum_training\u001b[0m\u001b[0;34m,\u001b[0m \u001b[0mnum_training\u001b[0m \u001b[0;34m+\u001b[0m \u001b[0mnum_val\u001b[0m\u001b[0;34m)\u001b[0m\u001b[0;34m\u001b[0m\u001b[0m\n\u001b[1;32m     14\u001b[0m     \u001b[0mX_val\u001b[0m \u001b[0;34m=\u001b[0m \u001b[0mX_train\u001b[0m\u001b[0;34m[\u001b[0m\u001b[0mmask\u001b[0m\u001b[0;34m]\u001b[0m\u001b[0;34m\u001b[0m\u001b[0m\n\u001b[0;32m---> 15\u001b[0;31m     \u001b[0my_val\u001b[0m \u001b[0;34m=\u001b[0m \u001b[0my_train\u001b[0m\u001b[0;34m[\u001b[0m\u001b[0mmask\u001b[0m\u001b[0;34m]\u001b[0m\u001b[0;34m\u001b[0m\u001b[0m\n\u001b[0m\u001b[1;32m     16\u001b[0m     \u001b[0mmask\u001b[0m \u001b[0;34m=\u001b[0m \u001b[0mxrange\u001b[0m\u001b[0;34m(\u001b[0m\u001b[0mnum_training\u001b[0m\u001b[0;34m)\u001b[0m\u001b[0;34m\u001b[0m\u001b[0m\n\u001b[1;32m     17\u001b[0m     \u001b[0mX_train\u001b[0m \u001b[0;34m=\u001b[0m \u001b[0mX_train\u001b[0m\u001b[0;34m[\u001b[0m\u001b[0mmask\u001b[0m\u001b[0;34m]\u001b[0m\u001b[0;34m\u001b[0m\u001b[0m\n",
        "\u001b[0;31mIndexError\u001b[0m: unsupported iterator index"
       ]
      }
     ],
     "prompt_number": 3
    },
    {
     "cell_type": "markdown",
     "metadata": {},
     "source": [
      "## Softmax Regression Classifier\n",
      "The code is running in the backend, you can find it [here](http://houxianxu.github.io/logistic-softmax-regression/), or [github](https://github.com/houxianxu/houxianxu.github.io/tree/master/implementation)"
     ]
    },
    {
     "cell_type": "code",
     "collapsed": false,
     "input": [
      "# Test the loss and gradient and compare between two implementations\n",
      "from algorithms.classifiers import loss_grad_softmax_naive, loss_grad_softmax_vectorized\n",
      "import time\n",
      "\n",
      "# generate a rand weights W \n",
      "W = np.random.randn(10, X_train.shape[0]) * 0.001\n",
      "tic = time.time()\n",
      "loss_naive, grad_naive = loss_grad_softmax_naive(W, X_train, y_train, 0.0001)\n",
      "toc = time.time()\n",
      "print 'Naive loss: %f, and gradient: computed in %fs' % (loss_naive, toc - tic)\n",
      "\n",
      "tic = time.time()\n",
      "loss_vec, grad_vect = loss_grad_softmax_vectorized(W, X_train, y_train, 0.0001)\n",
      "toc = time.time()\n",
      "print 'Vectorized loss: %f, and gradient: computed in %fs' % (loss_vec, toc - tic)\n",
      "\n",
      "# Compare the gradient, because the gradient is a vector, we canuse the Frobenius norm to compare them\n",
      "# the Frobenius norm of two matrices is the square root of the squared sum of differences of all elements\n",
      "diff = np.linalg.norm(grad_naive - grad_vect, ord='fro')\n",
      "# Randomly choose some gradient to check\n",
      "idxs = np.random.choice(X_train.shape[0], 10, replace=False)\n",
      "print idxs\n",
      "print grad_naive[0, idxs]\n",
      "print grad_vect[0, idxs]\n",
      "print 'Gradient difference between naive and vectorized version is: %f' % diff\n",
      "del loss_naive, loss_vec, grad_naive"
     ],
     "language": "python",
     "metadata": {},
     "outputs": [
      {
       "output_type": "stream",
       "stream": "stdout",
       "text": [
        "Naive loss: 5.101850, and gradient: computed in 5.970861s\n",
        "Vectorized loss: 5.101850, and gradient: computed in 0.578520s"
       ]
      },
      {
       "output_type": "stream",
       "stream": "stdout",
       "text": [
        "\n",
        "[  58 1180 1066  114 3041  684 2871  732 2226 2493]\n",
        "[ 0.96299059 -0.29548397  1.40331858  1.55453912  2.60552279  1.02290388\n",
        "  3.48212671  0.08947331  2.56720662  3.1420192 ]\n",
        "[ 0.96299059 -0.29548397  1.40331858  1.55453912  2.60552279  1.02290388\n",
        "  3.48212671  0.08947331  2.56720662  3.1420192 ]\n",
        "Gradient difference between naive and vectorized version is: 0.000000\n"
       ]
      }
     ],
     "prompt_number": 4
    },
    {
     "cell_type": "markdown",
     "metadata": {},
     "source": [
      "## Write function to compute gradient numerically to test the analytic gradient\n",
      "And put the function in algorithms/gradient_check.py file for future use"
     ]
    },
    {
     "cell_type": "code",
     "collapsed": false,
     "input": [
      "# file: algorithms/gradient_check.py\n",
      "def grad_check_sparse(f, x, analytic_grad, num_checks):\n",
      "  \"\"\"\n",
      "  sample a few random elements and only return numerical\n",
      "  in this dimensions.\n",
      "  \"\"\"\n",
      "  h = 1e-5\n",
      "\n",
      "  print x.shape\n",
      "\n",
      "  for i in xrange(num_checks):\n",
      "    ix = tuple([randrange(m) for m in x.shape])\n",
      "    print ix\n",
      "    x[ix] += h # increment by h\n",
      "    fxph = f(x) # evaluate f(x + h)\n",
      "    x[ix] -= 2 * h # increment by h\n",
      "    fxmh = f(x) # evaluate f(x - h)\n",
      "    x[ix] += h # reset\n",
      "\n",
      "    grad_numerical = (fxph - fxmh) / (2 * h)\n",
      "    grad_analytic = analytic_grad[ix]\n",
      "    rel_error = abs(grad_numerical - grad_analytic) / (abs(grad_numerical) + abs(grad_analytic))\n",
      "    print 'numerical: %f analytic: %f, relative error: %e' % (grad_numerical, grad_analytic, rel_error)"
     ],
     "language": "python",
     "metadata": {},
     "outputs": [],
     "prompt_number": 5
    },
    {
     "cell_type": "code",
     "collapsed": false,
     "input": [
      "# Check gradient using numerical gradient along several randomly chosen dimenstion\n",
      "from algorithms.gradient_check import grad_check_sparse\n",
      "f = lambda w: loss_grad_softmax_vectorized(w, X_train, y_train, 0)[0]\n",
      "grad_numerical = grad_check_sparse(f, W, grad_vect, 10)"
     ],
     "language": "python",
     "metadata": {},
     "outputs": [
      {
       "output_type": "stream",
       "stream": "stdout",
       "text": [
        "(10, 3073)\n",
        "(7, 375)\n",
        "numerical: -3.916883 analytic: -3.916883, relative error: 2.703636e-08"
       ]
      },
      {
       "output_type": "stream",
       "stream": "stdout",
       "text": [
        "\n",
        "(8, 2263)\n",
        "numerical: -2.292656 analytic: -2.292656, relative error: 1.424316e-08"
       ]
      },
      {
       "output_type": "stream",
       "stream": "stdout",
       "text": [
        "\n",
        "(3, 1720)\n",
        "numerical: 0.717328 analytic: 0.717328, relative error: 3.519292e-08"
       ]
      },
      {
       "output_type": "stream",
       "stream": "stdout",
       "text": [
        "\n",
        "(5, 2354)\n",
        "numerical: -3.118907 analytic: -3.118907, relative error: 1.349971e-08"
       ]
      },
      {
       "output_type": "stream",
       "stream": "stdout",
       "text": [
        "\n",
        "(2, 382)\n",
        "numerical: 0.168714 analytic: 0.168714, relative error: 1.563022e-07"
       ]
      },
      {
       "output_type": "stream",
       "stream": "stdout",
       "text": [
        "\n",
        "(7, 2426)\n",
        "numerical: -0.016456 analytic: -0.016456, relative error: 1.111633e-06"
       ]
      },
      {
       "output_type": "stream",
       "stream": "stdout",
       "text": [
        "\n",
        "(7, 406)\n",
        "numerical: -4.598401 analytic: -4.598401, relative error: 1.310813e-08"
       ]
      },
      {
       "output_type": "stream",
       "stream": "stdout",
       "text": [
        "\n",
        "(2, 1215)\n",
        "numerical: 0.541616 analytic: 0.541616, relative error: 1.827953e-07"
       ]
      },
      {
       "output_type": "stream",
       "stream": "stdout",
       "text": [
        "\n",
        "(2, 543)\n",
        "numerical: 0.990534 analytic: 0.990534, relative error: 6.933231e-09"
       ]
      },
      {
       "output_type": "stream",
       "stream": "stdout",
       "text": [
        "\n",
        "(2, 3054)\n",
        "numerical: -0.067773 analytic: -0.067773, relative error: 1.851798e-06"
       ]
      },
      {
       "output_type": "stream",
       "stream": "stdout",
       "text": [
        "\n"
       ]
      }
     ],
     "prompt_number": 6
    },
    {
     "cell_type": "code",
     "collapsed": false,
     "input": [
      "# Training softmax regression classifier using SGD and BGD\n",
      "from algorithms.classifiers import Softmax\n",
      "\n",
      "# # using BGD algorithm\n",
      "# softmax_bgd = Softmax()\n",
      "# tic = time.time()\n",
      "# losses_bgd = softmax_bgd.train(X_train, y_train, method='bgd', batch_size=200, learning_rate=1e-6,\n",
      "#               reg = 1e2, num_iters=1000, verbose=True, vectorized=True)\n",
      "# toc = time.time()\n",
      "# print 'Traning time for BGD with vectorized version is %f \\n' % (toc - tic)\n",
      "\n",
      "# # Compute the accuracy of training data and validation data using Softmax.predict function\n",
      "# y_train_pred_bgd = softmax_bgd.predict(X_train)[0]\n",
      "# print 'Training accuracy: %f' % (np.mean(y_train == y_train_pred_bgd))\n",
      "# y_val_pred_bgd = softmax_bgd.predict(X_val)[0]\n",
      "# print 'Validation accuracy: %f' % (np.mean(y_val == y_val_pred_bgd))\n",
      "\n",
      "# # using SGD algorithm\n",
      "softmax_sgd = Softmax()\n",
      "tic = time.time()\n",
      "losses_sgd = softmax_sgd.train(X_train, y_train, method='sgd', batch_size=200, learning_rate=1e-6,\n",
      "              reg = 1e5, num_iters=1000, verbose=True, vectorized=True)\n",
      "toc = time.time()\n",
      "print 'Traning time for SGD with vectorized version is %f \\n' % (toc - tic)\n",
      "\n",
      "y_train_pred_sgd = softmax_sgd.predict(X_train)[0]\n",
      "print 'Training accuracy: %f' % (np.mean(y_train == y_train_pred_sgd))\n",
      "y_val_pred_sgd = softmax_sgd.predict(X_val)[0]\n",
      "print 'Validation accuracy: %f' % (np.mean(y_val == y_val_pred_sgd))"
     ],
     "language": "python",
     "metadata": {},
     "outputs": [
      {
       "output_type": "stream",
       "stream": "stdout",
       "text": [
        "iteration 0/1000: loss 1531.789596\n",
        "iteration 100/1000: loss 2.149690"
       ]
      },
      {
       "output_type": "stream",
       "stream": "stdout",
       "text": [
        "\n",
        "iteration 200/1000: loss 2.154195"
       ]
      },
      {
       "output_type": "stream",
       "stream": "stdout",
       "text": [
        "\n",
        "iteration 300/1000: loss 2.105349"
       ]
      },
      {
       "output_type": "stream",
       "stream": "stdout",
       "text": [
        "\n",
        "iteration 400/1000: loss 2.207055"
       ]
      },
      {
       "output_type": "stream",
       "stream": "stdout",
       "text": [
        "\n",
        "iteration 500/1000: loss 2.178179"
       ]
      },
      {
       "output_type": "stream",
       "stream": "stdout",
       "text": [
        "\n",
        "iteration 600/1000: loss 2.174367"
       ]
      },
      {
       "output_type": "stream",
       "stream": "stdout",
       "text": [
        "\n",
        "iteration 700/1000: loss 2.122863"
       ]
      },
      {
       "output_type": "stream",
       "stream": "stdout",
       "text": [
        "\n",
        "iteration 800/1000: loss 2.151371"
       ]
      },
      {
       "output_type": "stream",
       "stream": "stdout",
       "text": [
        "\n",
        "iteration 900/1000: loss 2.132403"
       ]
      },
      {
       "output_type": "stream",
       "stream": "stdout",
       "text": [
        "\n",
        "Traning time for SGD with vectorized version is 10.162502 \n"
       ]
      },
      {
       "output_type": "stream",
       "stream": "stdout",
       "text": [
        "\n",
        "Training accuracy: 0.309286"
       ]
      },
      {
       "output_type": "stream",
       "stream": "stdout",
       "text": [
        "\n",
        "Validation accuracy: 0.327000\n"
       ]
      }
     ],
     "prompt_number": 7
    },
    {
     "cell_type": "code",
     "collapsed": false,
     "input": [
      "from ggplot import *\n",
      "qplot(xrange(len(losses_sgd)), losses_sgd) + labs(x='Iteration number', y='SGD Loss value')"
     ],
     "language": "python",
     "metadata": {},
     "outputs": [
      {
       "metadata": {},
       "output_type": "display_data",
       "png": "[encoded data removed]",
       "text": [
        "<matplotlib.figure.Figure at 0x17bb2c750>"
       ]
      },
      {
       "metadata": {},
       "output_type": "pyout",
       "prompt_number": 8,
       "text": [
        "<ggplot: (398142557)>"
       ]
      }
     ],
     "prompt_number": 8
    },
    {
     "cell_type": "code",
     "collapsed": false,
     "input": [
      "# Using validation set to tuen hyperparameters, i.e., learning rate and regularization strength\n",
      "learning_rates = [1e-5, 1e-8]\n",
      "regularization_strengths = [10e2, 10e4]\n",
      "\n",
      "# Result is a dictionary mapping tuples of the form (learning_rate, regularization_strength) \n",
      "# to tuples of the form (training_accuracy, validation_accuracy). The accuracy is simply the fraction\n",
      "# of data points that are correctly classified.\n",
      "results = {}\n",
      "best_val = -1\n",
      "best_softmax = None\n",
      "# Choose the best hyperparameters by tuning on the validation set\n",
      "i = 0\n",
      "interval = 5\n",
      "for learning_rate in np.linspace(learning_rates[0], learning_rates[1], num=interval):\n",
      "    i += 1\n",
      "    print 'The current iteration is %d/%d' % (i, interval)\n",
      "    for reg in np.linspace(regularization_strengths[0], regularization_strengths[1], num=interval):\n",
      "        softmax = Softmax()\n",
      "        softmax.train(X_train, y_train, method='sgd', batch_size=200, learning_rate=learning_rate,\n",
      "              reg = reg, num_iters=1000, verbose=False, vectorized=True)\n",
      "        y_train_pred = softmax.predict(X_train)[0]\n",
      "        y_val_pred = softmax.predict(X_val)[0]\n",
      "        train_accuracy = np.mean(y_train == y_train_pred)\n",
      "        val_accuracy = np.mean(y_val == y_val_pred)\n",
      "        results[(learning_rate, reg)] = (train_accuracy, val_accuracy)\n",
      "        if val_accuracy > best_val:\n",
      "            best_val = val_accuracy\n",
      "            best_softmax = softmax\n",
      "        else:\n",
      "            pass\n",
      "\n",
      "# Print out the results\n",
      "for learning_rate, reg in sorted(results):\n",
      "    train_accuracy,val_accuracy = results[(learning_rate, reg)]\n",
      "    print 'learning rate %e and regularization %e, \\n \\\n",
      "    the training accuracy is: %f and validation accuracy is: %f.\\n' % (learning_rate, reg, train_accuracy, val_accuracy)\n",
      "           "
     ],
     "language": "python",
     "metadata": {},
     "outputs": [
      {
       "output_type": "stream",
       "stream": "stdout",
       "text": [
        "The current iteration is 1/5\n",
        "The current iteration is 2/5"
       ]
      },
      {
       "output_type": "stream",
       "stream": "stdout",
       "text": [
        "\n",
        "The current iteration is 3/5"
       ]
      },
      {
       "output_type": "stream",
       "stream": "stdout",
       "text": [
        "\n",
        "The current iteration is 4/5"
       ]
      },
      {
       "output_type": "stream",
       "stream": "stdout",
       "text": [
        "\n",
        "The current iteration is 5/5"
       ]
      },
      {
       "output_type": "stream",
       "stream": "stdout",
       "text": [
        "\n",
        "learning rate 1.000000e-08 and regularization 1.000000e+03, \n",
        "     the training accuracy is: 0.134388 and validation accuracy is: 0.123000.\n"
       ]
      },
      {
       "output_type": "stream",
       "stream": "stdout",
       "text": [
        "\n",
        "learning rate 1.000000e-08 and regularization 2.575000e+04, \n",
        "     the training accuracy is: 0.138265 and validation accuracy is: 0.129000.\n",
        "\n",
        "learning rate 1.000000e-08 and regularization 5.050000e+04, \n",
        "     the training accuracy is: 0.159163 and validation accuracy is: 0.162000.\n",
        "\n",
        "learning rate 1.000000e-08 and regularization 7.525000e+04, \n",
        "     the training accuracy is: 0.166184 and validation accuracy is: 0.163000.\n",
        "\n",
        "learning rate 1.000000e-08 and regularization 1.000000e+05, \n",
        "     the training accuracy is: 0.160490 and validation accuracy is: 0.164000.\n",
        "\n",
        "learning rate 2.507500e-06 and regularization 1.000000e+03, \n",
        "     the training accuracy is: 0.395959 and validation accuracy is: 0.395000.\n",
        "\n",
        "learning rate 2.507500e-06 and regularization 2.575000e+04, \n",
        "     the training accuracy is: 0.323469 and validation accuracy is: 0.331000.\n",
        "\n",
        "learning rate 2.507500e-06 and regularization 5.050000e+04, \n",
        "     the training accuracy is: 0.267694 and validation accuracy is: 0.271000.\n",
        "\n",
        "learning rate 2.507500e-06 and regularization 7.525000e+04, \n",
        "     the training accuracy is: 0.275918 and validation accuracy is: 0.289000.\n",
        "\n",
        "learning rate 2.507500e-06 and regularization 1.000000e+05, \n",
        "     the training accuracy is: 0.259388 and validation accuracy is: 0.266000.\n",
        "\n",
        "learning rate 5.005000e-06 and regularization 1.000000e+03, \n",
        "     the training accuracy is: 0.375796 and validation accuracy is: 0.379000.\n",
        "\n",
        "learning rate 5.005000e-06 and regularization 2.575000e+04, \n",
        "     the training accuracy is: 0.232367 and validation accuracy is: 0.228000.\n",
        "\n",
        "learning rate 5.005000e-06 and regularization 5.050000e+04, \n",
        "     the training accuracy is: 0.208449 and validation accuracy is: 0.221000.\n",
        "\n",
        "learning rate 5.005000e-06 and regularization 7.525000e+04, \n",
        "     the training accuracy is: 0.184367 and validation accuracy is: 0.195000.\n",
        "\n",
        "learning rate 5.005000e-06 and regularization 1.000000e+05, \n",
        "     the training accuracy is: 0.154653 and validation accuracy is: 0.146000.\n",
        "\n",
        "learning rate 7.502500e-06 and regularization 1.000000e+03, \n",
        "     the training accuracy is: 0.299490 and validation accuracy is: 0.300000.\n",
        "\n",
        "learning rate 7.502500e-06 and regularization 2.575000e+04, \n",
        "     the training accuracy is: 0.185714 and validation accuracy is: 0.202000.\n",
        "\n",
        "learning rate 7.502500e-06 and regularization 5.050000e+04, \n",
        "     the training accuracy is: 0.189306 and validation accuracy is: 0.181000.\n",
        "\n",
        "learning rate 7.502500e-06 and regularization 7.525000e+04, \n",
        "     the training accuracy is: 0.174510 and validation accuracy is: 0.178000.\n",
        "\n",
        "learning rate 7.502500e-06 and regularization 1.000000e+05, \n",
        "     the training accuracy is: 0.109286 and validation accuracy is: 0.127000.\n",
        "\n",
        "learning rate 1.000000e-05 and regularization 1.000000e+03, \n",
        "     the training accuracy is: 0.302653 and validation accuracy is: 0.313000.\n",
        "\n",
        "learning rate 1.000000e-05 and regularization 2.575000e+04, \n",
        "     the training accuracy is: 0.146429 and validation accuracy is: 0.131000.\n",
        "\n",
        "learning rate 1.000000e-05 and regularization 5.050000e+04, \n",
        "     the training accuracy is: 0.104224 and validation accuracy is: 0.098000.\n",
        "\n",
        "learning rate 1.000000e-05 and regularization 7.525000e+04, \n",
        "     the training accuracy is: 0.095714 and validation accuracy is: 0.101000.\n",
        "\n",
        "learning rate 1.000000e-05 and regularization 1.000000e+05, \n",
        "     the training accuracy is: 0.103265 and validation accuracy is: 0.110000.\n",
        "\n"
       ]
      }
     ],
     "prompt_number": 9
    },
    {
     "cell_type": "markdown",
     "metadata": {},
     "source": [
      "## Test **best** logistic classifier on test datasets\n",
      "The trained model works well on the test datasets, which has 39.04% accuracy!"
     ]
    },
    {
     "cell_type": "code",
     "collapsed": false,
     "input": [
      "y_test_predict_result = best_softmax.predict(X_test)\n",
      "y_test_predict = y_test_predict_result[0]\n",
      "test_accuracy = np.mean(y_test == y_test_predict)\n",
      "print 'The test accuracy is: %f' % test_accuracy\n"
     ],
     "language": "python",
     "metadata": {},
     "outputs": [
      {
       "output_type": "stream",
       "stream": "stdout",
       "text": [
        "The test accuracy is: 0.383200\n"
       ]
      }
     ],
     "prompt_number": 10
    },
    {
     "cell_type": "markdown",
     "metadata": {},
     "source": []
    }
   ],
   "metadata": {}
  }
 ]
}